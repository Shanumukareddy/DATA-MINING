{
  "nbformat": 4,
  "nbformat_minor": 0,
  "metadata": {
    "colab": {
      "provenance": [],
      "authorship_tag": "ABX9TyMtE8I8ow0hc8jIa83pd4yo",
      "include_colab_link": true
    },
    "kernelspec": {
      "name": "python3",
      "display_name": "Python 3"
    },
    "language_info": {
      "name": "python"
    }
  },
  "cells": [
    {
      "cell_type": "markdown",
      "metadata": {
        "id": "view-in-github",
        "colab_type": "text"
      },
      "source": [
        "<a href=\"https://colab.research.google.com/github/Shanumukareddy/DATA-MINING/blob/main/19_03_2025.ipynb\" target=\"_parent\"><img src=\"https://colab.research.google.com/assets/colab-badge.svg\" alt=\"Open In Colab\"/></a>"
      ]
    },
    {
      "cell_type": "markdown",
      "source": [
        "1. Employee Salary Analysis\n",
        "A company wants to analyze its employees’ salaries to determine increments based on performance. The HR department has collected the following dataset:\n",
        "Employee\tDepartment\tSalary\tExperience (Years)\tPerformance Rating (Out of 5)\n",
        "John\tIT\t60000\t5\t4.5\n",
        "Sarah\tHR\t50000\t3\t3.8\n",
        "Mike\tIT\t75000\t7\t4.9\n",
        "Emma\tFinance\t65000\t4\t4.2\n",
        "Tom\tHR\t48000\t2\t3.5\n",
        "Tasks:\n",
        "1.\tCreate a DataFrame using the given data.\n",
        "2.\tCalculate the average salary of employees in each department.\n",
        "3.\tFilter out employees who have a performance rating above 4.0.\n",
        "4.\tAdd a new column called \"Increment\", where employees with a rating above 4 get a 10% increment, and others get a 5% increment.\n",
        "5.\tSort employees in descending order of salary after the increment\n"
      ],
      "metadata": {
        "id": "J25n2OD_nMEt"
      }
    },
    {
      "cell_type": "code",
      "execution_count": 1,
      "metadata": {
        "id": "HTz3YAMmgwKC"
      },
      "outputs": [],
      "source": [
        "import pandas as pd\n",
        "data = {\n",
        "    \"Employee\": [\"John\", \"Sarah\", \"Mike\", \"Emma\", \"Tom\"],\n",
        "    \"Department\": [\"IT\", \"HR\", \"IT\", \"Finance\", \"HR\"],\n",
        "    \"Salary\": [60000, 50000, 75000, 65000, 48000],\n",
        "    \"Experience (Years)\": [5, 3, 7, 4, 2],\n",
        "    \"Performance Rating\": [4.5, 3.8, 4.9, 4.2, 3.5]\n",
        "}\n",
        "df = pd.DataFrame(data)"
      ]
    },
    {
      "cell_type": "code",
      "source": [
        "avg_salary = df.groupby(\"Department\")[\"Salary\"].mean()\n",
        "print(\"Average Salary per Department:\\n\", avg_salary)"
      ],
      "metadata": {
        "colab": {
          "base_uri": "https://localhost:8080/"
        },
        "id": "9OEtkWHclQEv",
        "outputId": "4d18da41-898f-44c6-91c5-df5702d43b7b"
      },
      "execution_count": 2,
      "outputs": [
        {
          "output_type": "stream",
          "name": "stdout",
          "text": [
            "Average Salary per Department:\n",
            " Department\n",
            "Finance    65000.0\n",
            "HR         49000.0\n",
            "IT         67500.0\n",
            "Name: Salary, dtype: float64\n"
          ]
        }
      ]
    },
    {
      "cell_type": "code",
      "source": [
        "high_performers = df[df[\"Performance Rating\"] > 4.0]\n",
        "print(\"\\nEmployees with Performance Rating above 4.0:\\n\", high_performers)"
      ],
      "metadata": {
        "colab": {
          "base_uri": "https://localhost:8080/"
        },
        "id": "PF5Xi547mevc",
        "outputId": "3c6db151-8793-4e93-db2a-c463dade67a4"
      },
      "execution_count": 3,
      "outputs": [
        {
          "output_type": "stream",
          "name": "stdout",
          "text": [
            "\n",
            "Employees with Performance Rating above 4.0:\n",
            "   Employee Department  Salary  Experience (Years)  Performance Rating\n",
            "0     John         IT   60000                   5                 4.5\n",
            "2     Mike         IT   75000                   7                 4.9\n",
            "3     Emma    Finance   65000                   4                 4.2\n"
          ]
        }
      ]
    },
    {
      "cell_type": "code",
      "source": [
        "increment_condition = df[\"Performance Rating\"] > 4.0\n",
        "df[\"Increment\"] = df[\"Salary\"] * 0.10  # Default 10% increment\n",
        "df.loc[~increment_condition, \"Increment\"] = df[\"Salary\"] * 0.05  # 5% for others"
      ],
      "metadata": {
        "id": "utQUfP_omkmL"
      },
      "execution_count": 4,
      "outputs": []
    },
    {
      "cell_type": "code",
      "source": [
        "df[\"New Salary\"] = df[\"Salary\"] + df[\"Increment\"]"
      ],
      "metadata": {
        "id": "8gI_67x_m5ex"
      },
      "execution_count": 5,
      "outputs": []
    },
    {
      "cell_type": "code",
      "source": [
        "df_sorted = df.sort_values(by=\"New Salary\", ascending=False)\n",
        "print(\"\\nEmployees sorted by new salary:\\n\", df_sorted)"
      ],
      "metadata": {
        "colab": {
          "base_uri": "https://localhost:8080/"
        },
        "id": "wwccp6kcm8Ol",
        "outputId": "99d29eb1-b896-43e5-dab6-3e2016cc9e35"
      },
      "execution_count": 7,
      "outputs": [
        {
          "output_type": "stream",
          "name": "stdout",
          "text": [
            "\n",
            "Employees sorted by new salary:\n",
            "   Employee Department  Salary  Experience (Years)  Performance Rating  \\\n",
            "2     Mike         IT   75000                   7                 4.9   \n",
            "3     Emma    Finance   65000                   4                 4.2   \n",
            "0     John         IT   60000                   5                 4.5   \n",
            "1    Sarah         HR   50000                   3                 3.8   \n",
            "4      Tom         HR   48000                   2                 3.5   \n",
            "\n",
            "   Increment  New Salary  \n",
            "2     7500.0     82500.0  \n",
            "3     6500.0     71500.0  \n",
            "0     6000.0     66000.0  \n",
            "1     2500.0     52500.0  \n",
            "4     2400.0     50400.0  \n"
          ]
        }
      ]
    },
    {
      "cell_type": "markdown",
      "source": [
        "2. COVID-19 Cases Analysis\n",
        "A health department is monitoring COVID-19 cases in different cities. They have recorded the following data:\n",
        "City\tTotal Cases\tRecovered\tDeaths\n",
        "New York\t100000\t75000\t5000\n",
        "Los Angeles\t85000\t70000\t3500\n",
        "Chicago\t65000\t50000\t2500\n",
        "Houston\t70000\t60000\t2000\n",
        "Miami\t55000\t45000\t1500\n",
        "Tasks:\n",
        "1.\tCreate a DataFrame for the given data.\n",
        "2.\tCalculate the recovery rate ((Recovered / Total Cases) * 100) for each city and add it as a new column.\n",
        "3.\tIdentify cities where the death rate ((Deaths / Total Cases) * 100) is higher than 5%.\n",
        "4.\tSort the cities by the highest recovery rate.\n",
        "5.\tFind the total number of cases and deaths across all cities.\n",
        "\n"
      ],
      "metadata": {
        "id": "VayWc87wot0h"
      }
    },
    {
      "cell_type": "code",
      "source": [
        "import pandas as pd"
      ],
      "metadata": {
        "id": "jyoGw19roxqh"
      },
      "execution_count": 8,
      "outputs": []
    },
    {
      "cell_type": "code",
      "source": [
        "data = {\n",
        "    \"City\": [\"New York\", \"Los Angeles\", \"Chicago\", \"Houston\", \"Miami\"],\n",
        "    \"Total Cases\": [100000, 85000, 65000, 70000, 55000],\n",
        "    \"Recovered\": [75000, 70000, 50000, 60000, 45000],\n",
        "    \"Deaths\": [5000, 3500, 2500, 2000, 1500]\n",
        "}\n",
        "df = pd.DataFrame(data)"
      ],
      "metadata": {
        "id": "H5KSkH0lpNhe"
      },
      "execution_count": 16,
      "outputs": []
    },
    {
      "cell_type": "code",
      "source": [
        "# Calculating the recovery rate\n",
        "df[\"Recovery Rate (%)\"] = (df[\"Recovered\"] / df[\"Total Cases\"]) * 100\n",
        "\n",
        "# Displaying the DataFrame\n",
        "print(df)"
      ],
      "metadata": {
        "colab": {
          "base_uri": "https://localhost:8080/"
        },
        "id": "mhYfw2bqqmUw",
        "outputId": "4224ea54-bcb2-4e00-a7e5-a91531f5dcef"
      },
      "execution_count": 17,
      "outputs": [
        {
          "output_type": "stream",
          "name": "stdout",
          "text": [
            "          City  Total Cases  Recovered  Deaths  Recovery Rate (%)\n",
            "0     New York       100000      75000    5000          75.000000\n",
            "1  Los Angeles        85000      70000    3500          82.352941\n",
            "2      Chicago        65000      50000    2500          76.923077\n",
            "3      Houston        70000      60000    2000          85.714286\n",
            "4        Miami        55000      45000    1500          81.818182\n"
          ]
        }
      ]
    },
    {
      "cell_type": "code",
      "source": [
        "# Calculate Death Rate\n",
        "df[\"Death Rate (%)\"] = (df[\"Deaths\"] / df[\"Total Cases\"]) * 100\n",
        "#Displaying the DataFrame\n",
        "print(df)"
      ],
      "metadata": {
        "colab": {
          "base_uri": "https://localhost:8080/"
        },
        "id": "hW5R-KMVtKIx",
        "outputId": "dc72032b-ef8c-4bc7-fa0a-3615bcc4f144"
      },
      "execution_count": 18,
      "outputs": [
        {
          "output_type": "stream",
          "name": "stdout",
          "text": [
            "          City  Total Cases  Recovered  Deaths  Recovery Rate (%)  \\\n",
            "0     New York       100000      75000    5000          75.000000   \n",
            "1  Los Angeles        85000      70000    3500          82.352941   \n",
            "2      Chicago        65000      50000    2500          76.923077   \n",
            "3      Houston        70000      60000    2000          85.714286   \n",
            "4        Miami        55000      45000    1500          81.818182   \n",
            "\n",
            "   Death Rate (%)  \n",
            "0        5.000000  \n",
            "1        4.117647  \n",
            "2        3.846154  \n",
            "3        2.857143  \n",
            "4        2.727273  \n"
          ]
        }
      ]
    },
    {
      "cell_type": "code",
      "source": [
        "# Identify cities with death rate higher than 5%\n",
        "high_death_rate_cities = df[df[\"Death Rate (%)\"] > 5]\n",
        "\n"
      ],
      "metadata": {
        "id": "8lMuahzbvD7S"
      },
      "execution_count": 19,
      "outputs": []
    },
    {
      "cell_type": "code",
      "source": [
        "# Sort cities by highest recovery rate\n",
        "df_sorted = df.sort_values(by=\"Recovery Rate (%)\", ascending=False)\n"
      ],
      "metadata": {
        "id": "K77q4RLjvHh_"
      },
      "execution_count": 20,
      "outputs": []
    },
    {
      "cell_type": "code",
      "source": [
        "# Find total cases and deaths across all cities\n",
        "total_cases = df[\"Total Cases\"].sum()\n",
        "total_deaths = df[\"Deaths\"].sum()\n",
        "\n"
      ],
      "metadata": {
        "id": "pA4C8rgIvTSa"
      },
      "execution_count": 21,
      "outputs": []
    },
    {
      "cell_type": "code",
      "source": [
        "# Display results\n",
        "print(\"DataFrame with Recovery and Death Rates:\")\n",
        "print(df)\n",
        "print(\"\\nCities with Death Rate > 5%:\")\n",
        "print(high_death_rate_cities)\n",
        "print(\"\\nCities Sorted by Highest Recovery Rate:\")\n",
        "print(df_sorted)\n",
        "print(f\"\\nTotal Cases Across All Cities: {total_cases}\")\n",
        "print(f\"Total Deaths Across All Cities: {total_deaths}\")"
      ],
      "metadata": {
        "colab": {
          "base_uri": "https://localhost:8080/"
        },
        "id": "r17IRAbzvZQ5",
        "outputId": "1bae6ea1-4171-4c49-f8c3-4499988809d0"
      },
      "execution_count": 22,
      "outputs": [
        {
          "output_type": "stream",
          "name": "stdout",
          "text": [
            "DataFrame with Recovery and Death Rates:\n",
            "          City  Total Cases  Recovered  Deaths  Recovery Rate (%)  \\\n",
            "0     New York       100000      75000    5000          75.000000   \n",
            "1  Los Angeles        85000      70000    3500          82.352941   \n",
            "2      Chicago        65000      50000    2500          76.923077   \n",
            "3      Houston        70000      60000    2000          85.714286   \n",
            "4        Miami        55000      45000    1500          81.818182   \n",
            "\n",
            "   Death Rate (%)  \n",
            "0        5.000000  \n",
            "1        4.117647  \n",
            "2        3.846154  \n",
            "3        2.857143  \n",
            "4        2.727273  \n",
            "\n",
            "Cities with Death Rate > 5%:\n",
            "Empty DataFrame\n",
            "Columns: [City, Total Cases, Recovered, Deaths, Recovery Rate (%), Death Rate (%)]\n",
            "Index: []\n",
            "\n",
            "Cities Sorted by Highest Recovery Rate:\n",
            "          City  Total Cases  Recovered  Deaths  Recovery Rate (%)  \\\n",
            "3      Houston        70000      60000    2000          85.714286   \n",
            "1  Los Angeles        85000      70000    3500          82.352941   \n",
            "4        Miami        55000      45000    1500          81.818182   \n",
            "2      Chicago        65000      50000    2500          76.923077   \n",
            "0     New York       100000      75000    5000          75.000000   \n",
            "\n",
            "   Death Rate (%)  \n",
            "3        2.857143  \n",
            "1        4.117647  \n",
            "4        2.727273  \n",
            "2        3.846154  \n",
            "0        5.000000  \n",
            "\n",
            "Total Cases Across All Cities: 375000\n",
            "Total Deaths Across All Cities: 14500\n"
          ]
        }
      ]
    },
    {
      "cell_type": "markdown",
      "source": [],
      "metadata": {
        "id": "-O63O9wootxK"
      }
    }
  ]
}